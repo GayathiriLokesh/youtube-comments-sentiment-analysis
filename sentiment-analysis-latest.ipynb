{
 "cells": [
  {
   "cell_type": "code",
   "execution_count": null,
   "metadata": {},
   "outputs": [],
   "source": [
    "# Verify that the Delta table exists at the given path\n",
    "df = spark.read.format(\"delta\").load(\"/mnt/delta/youtube_comments\")\n",
    "df.show()\n"
   ]
  },
  {
   "cell_type": "code",
   "execution_count": null,
   "metadata": {},
   "outputs": [],
   "source": [
    "%sql\n",
    "drop table default.youtube_comments\n"
   ]
  },
  {
   "cell_type": "code",
   "execution_count": null,
   "metadata": {},
   "outputs": [],
   "source": [
    "# Write the Delta table to a permanent location in the Spark catalog\n",
    "df.write.format(\"delta\").saveAsTable(\"default.youtube_comments\")\n",
    "\n",
    "# Query the table\n",
    "spark.sql(\"SELECT * FROM default.youtube_comments\").show()"
   ]
  },
  {
   "cell_type": "code",
   "execution_count": null,
   "metadata": {},
   "outputs": [],
   "source": [
    "%sql\n",
    "SELECT * FROM default.youtube_comments"
   ]
  },
  {
   "cell_type": "code",
   "execution_count": null,
   "metadata": {},
   "outputs": [],
   "source": [
    "%sql\n",
    "SELECT \n",
    "    CASE \n",
    "        WHEN sentiment > 0.05 THEN 'Positive'\n",
    "        WHEN sentiment < -0.05 THEN 'Negative'\n",
    "        ELSE 'Neutral'\n",
    "    END AS sentiment_category,\n",
    "    COUNT(*) AS count\n",
    "FROM youtube_comments\n",
    "GROUP BY \n",
    "    CASE \n",
    "        WHEN sentiment > 0.05 THEN 'Positive'\n",
    "        WHEN sentiment < -0.05 THEN 'Negative'\n",
    "        ELSE 'Neutral'\n",
    "    END;"
   ]
  },
  {
   "cell_type": "code",
   "execution_count": null,
   "metadata": {},
   "outputs": [],
   "source": [
    "%sql\n",
    "SELECT \n",
    "    videoId,\n",
    "    CASE \n",
    "        WHEN LOWER(textDisplay) LIKE '%azure devops%' THEN 'Azure DevOps'\n",
    "        WHEN LOWER(textDisplay) LIKE '%azure ai%' THEN 'Azure AI'\n",
    "        WHEN LOWER(textDisplay) LIKE '%azure functions%' THEN 'Azure Functions'\n",
    "        ELSE 'Other'\n",
    "    END AS topic,\n",
    "    COUNT(*) AS total_comments,\n",
    "    AVG(sentiment) AS avg_sentiment,\n",
    "    AVG(likeCount) AS avg_likes\n",
    "FROM youtube_comments\n",
    "GROUP BY \n",
    "    videoId,\n",
    "    CASE \n",
    "        WHEN LOWER(textDisplay) LIKE '%azure devops%' THEN 'Azure DevOps'\n",
    "        WHEN LOWER(textDisplay) LIKE '%azure ai%' THEN 'Azure AI'\n",
    "        WHEN LOWER(textDisplay) LIKE '%azure functions%' THEN 'Azure Functions'\n",
    "        ELSE 'Other'\n",
    "    END;\n"
   ]
  }
 ],
 "metadata": {
  "language_info": {
   "name": "python"
  }
 },
 "nbformat": 4,
 "nbformat_minor": 2
}
